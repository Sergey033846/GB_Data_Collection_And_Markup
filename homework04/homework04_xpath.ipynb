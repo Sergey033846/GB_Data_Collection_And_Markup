{
 "cells": [
  {
   "cell_type": "code",
   "execution_count": 1,
   "id": "7f8a5544",
   "metadata": {},
   "outputs": [],
   "source": [
    "import requests\n",
    "import csv\n",
    "from fake_useragent import UserAgent\n",
    "from lxml import html"
   ]
  },
  {
   "cell_type": "code",
   "execution_count": 2,
   "id": "b6d5a7ee",
   "metadata": {},
   "outputs": [],
   "source": [
    "# Парсим https://film.arjlover.net/film/\n",
    "url_catalogue = 'https://film.arjlover.net'\n",
    "url_category = '/film/'\n",
    "ua = UserAgent()\n",
    "headers = {\"User-Agent\": ua.chrome}\n",
    "session = requests.session()\n",
    "response = session.get(f'{url_catalogue}{url_category}', headers=headers)"
   ]
  },
  {
   "cell_type": "code",
   "execution_count": 3,
   "id": "57095c7d",
   "metadata": {},
   "outputs": [],
   "source": [
    "# Находим таблицу, в которой содержатся строки с классом \"e\" или \"o\"\n",
    "tree = html.fromstring(response.content)\n",
    "tables = tree.xpath('//table[.//tr[@class=\"e\"] or .//tr[@class=\"o\"]]')\n",
    "if len(tables):\n",
    "    table = tables[0]\n",
    "else:\n",
    "    print('Таблица для парсинга не найдена!')"
   ]
  },
  {
   "cell_type": "code",
   "execution_count": 4,
   "id": "dc74002f",
   "metadata": {},
   "outputs": [
    {
     "name": "stdout",
     "output_type": "stream",
     "text": [
      "['N', 'Название', 'Размер', 'Картинка', 'Длит-ть', 'http', 'torrent']\n"
     ]
    }
   ],
   "source": [
    "# Парсим заголовки колонок из первого <tr>, удаляем лишние пробелы\n",
    "header_row = [header.strip() for header in table.xpath('//tr[@class=\"head\"]/th/text()')][0:-1]\n",
    "\n",
    "# Вместо столбца \"Скачать\" делаем два отдельных\n",
    "header_row += ['http', 'torrent']\n",
    "print(header_row)"
   ]
  },
  {
   "cell_type": "code",
   "execution_count": 5,
   "id": "0b4ec4a1",
   "metadata": {},
   "outputs": [
    {
     "name": "stdout",
     "output_type": "stream",
     "text": [
      "6174\n",
      "{'N': 1, 'Название': '01-99', 'Размер': '326.578.176', 'Картинка': '720x544', 'Длит-ть': '00:20:59', 'http': 'https://film.arjlover.net/film/01.99.avi', 'torrent': 'https://film.arjlover.net/torrents/01.99.avi.torrent'}\n",
      "{'N': 2, 'Название': '126 слов', 'Размер': '701.581.312', 'Картинка': '720x544', 'Длит-ть': '00:49:05', 'http': 'https://film.arjlover.net/film/126.slov.avi', 'torrent': 'https://film.arjlover.net/torrents/126.slov.avi.torrent'}\n",
      "{'N': 3, 'Название': '1812 год', 'Размер': '610.891.776', 'Картинка': '700x528', 'Длит-ть': '00:32:44', 'http': 'https://film.arjlover.net/film/1812.god.avi', 'torrent': 'https://film.arjlover.net/torrents/1812.god.avi.torrent'}\n"
     ]
    }
   ],
   "source": [
    "# Парсим строки с данными\n",
    "rows = tree.xpath('//tr[@class=\"o\" or @class=\"e\"]')\n",
    "data = []\n",
    "\n",
    "# Парсим строки\n",
    "for row in rows:\n",
    "    row_data = {}\n",
    "    \n",
    "    # Извлекаем значение N из первой ячейки, включая текст в тегах <a> и <td>\n",
    "    cell = row.xpath('./td[1]//text()')\n",
    "    row_data['N'] = int(''.join(cell).strip()) if cell else None\n",
    "    \n",
    "    # Извлекаем значения остальных полей\n",
    "    cell = row.xpath('./td[2]//text()')\n",
    "    row_data['Название'] = cell[0].strip() if cell else None\n",
    "\n",
    "    cell = row.xpath('./td[3]//text()')\n",
    "    row_data['Размер'] = cell[0].strip() if cell else None\n",
    "\n",
    "    cell = row.xpath('./td[4]//text()')\n",
    "    row_data['Картинка'] = cell[0].strip() if cell else None\n",
    "\n",
    "    cell = row.xpath('./td[5]//text()')\n",
    "    row_data['Длит-ть'] = cell[0].strip() if cell else None\n",
    "    \n",
    "    # Для столбца \"Скачать\" формируем полные ссылки (кроме ed2k)\n",
    "    cell = row.xpath('./td[6]//a/@href')\n",
    "    download_links = cell if cell else []\n",
    "    row_data['http'] = f'{url_catalogue}{download_links[0]}' if len(download_links) else ''\n",
    "    row_data['torrent'] = f'{url_catalogue}{download_links[2]}' if len(download_links) > 1 else ''\n",
    "    \n",
    "    data.append(row_data)\n",
    "\n",
    "# Отладка (должно быть 6174)\n",
    "print(len(data))\n",
    "for row in data[0:3]:\n",
    "    print(row)"
   ]
  },
  {
   "cell_type": "code",
   "execution_count": 6,
   "id": "15599701",
   "metadata": {},
   "outputs": [
    {
     "name": "stdout",
     "output_type": "stream",
     "text": [
      "Данные успешно сохранены!\n"
     ]
    }
   ],
   "source": [
    "# Записываем данные в CSV-файл\n",
    "with open('homework04_films.csv', newline='', mode='w', encoding='utf-8') as file:\n",
    "    writer = csv.DictWriter(file, fieldnames=header_row, delimiter=';')        \n",
    "    writer.writeheader()  \n",
    "    writer.writerows(data)         \n",
    "\n",
    "# Выводим результат\n",
    "print(f'Данные успешно сохранены!')"
   ]
  }
 ],
 "metadata": {
  "kernelspec": {
   "display_name": "Python 3 (ipykernel)",
   "language": "python",
   "name": "python3"
  },
  "language_info": {
   "codemirror_mode": {
    "name": "ipython",
    "version": 3
   },
   "file_extension": ".py",
   "mimetype": "text/x-python",
   "name": "python",
   "nbconvert_exporter": "python",
   "pygments_lexer": "ipython3",
   "version": "3.12.4"
  }
 },
 "nbformat": 4,
 "nbformat_minor": 5
}
