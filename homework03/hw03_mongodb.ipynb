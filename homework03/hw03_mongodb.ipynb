{
 "cells": [
  {
   "cell_type": "code",
   "execution_count": 35,
   "metadata": {},
   "outputs": [],
   "source": [
    "from pymongo import MongoClient\n",
    "import json\n",
    "from pprint import pprint"
   ]
  },
  {
   "cell_type": "code",
   "execution_count": 36,
   "metadata": {},
   "outputs": [],
   "source": [
    "# Подключение к серверу MongoDB\n",
    "client = MongoClient('mongodb://localhost:27017/')"
   ]
  },
  {
   "cell_type": "code",
   "execution_count": 37,
   "metadata": {},
   "outputs": [],
   "source": [
    "# Указание базы данных и коллекции\n",
    "db = client['books2scrape']\n",
    "collection = db['books']"
   ]
  },
  {
   "cell_type": "code",
   "execution_count": 38,
   "metadata": {},
   "outputs": [
    {
     "name": "stdout",
     "output_type": "stream",
     "text": [
      "1000\n"
     ]
    }
   ],
   "source": [
    "# Чтение файла JSON\n",
    "with open('books.json', 'r', encoding='utf-8') as file:\n",
    "    data = json.load(file)\n",
    "print(len(data))"
   ]
  },
  {
   "cell_type": "code",
   "execution_count": 47,
   "metadata": {},
   "outputs": [
    {
     "name": "stdout",
     "output_type": "stream",
     "text": [
      "{'title': 'A Light in the Attic', 'price': '£51.77', 'available': 22, 'description': \"It's hard to imagine a world without A Light in the Attic. This now-classic collection of poetry and drawings from Shel Silverstein celebrates its 20th anniversary with this special edition. Silverstein's humorous and creative verse can amuse the dowdiest of readers. Lemon-faced adults and fidgety kids sit still and read these rhythmic words and laugh and smile and love th It's hard to imagine a world without A Light in the Attic. This now-classic collection of poetry and drawings from Shel Silverstein celebrates its 20th anniversary with this special edition. Silverstein's humorous and creative verse can amuse the dowdiest of readers. Lemon-faced adults and fidgety kids sit still and read these rhythmic words and laugh and smile and love that Silverstein. Need proof of his genius? RockabyeRockabye baby, in the treetopDon't you know a treetopIs no safe place to rock?And who put you up there,And your cradle, too?Baby, I think someone down here'sGot it in for you. Shel, you never sounded so good. ...more\"}\n"
     ]
    }
   ],
   "source": [
    "# Приводим имена полей к нижнему регистру\n",
    "for i in range(len(data)):    \n",
    "    data[i] = {key.lower(): value for key, value in data[i].items()}\n",
    "print(data[0])"
   ]
  },
  {
   "cell_type": "code",
   "execution_count": 48,
   "metadata": {},
   "outputs": [
    {
     "name": "stdout",
     "output_type": "stream",
     "text": [
      "Число записей в базе данных: 0\n"
     ]
    }
   ],
   "source": [
    "# Получение текущего количества документов в коллекции до вставки (0)\n",
    "count = collection.count_documents({})\n",
    "print(f'Число записей в базе данных: {count}')"
   ]
  },
  {
   "cell_type": "code",
   "execution_count": 32,
   "metadata": {},
   "outputs": [],
   "source": [
    "# Удаление всех документов из коллекции\n",
    "# result = collection.delete_many({})"
   ]
  },
  {
   "cell_type": "code",
   "execution_count": 49,
   "metadata": {},
   "outputs": [
    {
     "name": "stdout",
     "output_type": "stream",
     "text": [
      "Данные успешно вставлены.\n"
     ]
    }
   ],
   "source": [
    "# Вставка данных в коллекцию MongoDB\n",
    "collection.insert_many(data)\n",
    "print(\"Данные успешно вставлены.\")"
   ]
  },
  {
   "cell_type": "code",
   "execution_count": 50,
   "metadata": {},
   "outputs": [
    {
     "name": "stdout",
     "output_type": "stream",
     "text": [
      "Число записей в базе данных: 1000\n"
     ]
    }
   ],
   "source": [
    "# Получение текущего количества документов в коллекции после вставки\n",
    "count = collection.count_documents({})\n",
    "print(f'Число записей в базе данных: {count}')"
   ]
  },
  {
   "cell_type": "code",
   "execution_count": 51,
   "metadata": {},
   "outputs": [
    {
     "name": "stdout",
     "output_type": "stream",
     "text": [
      "{'_id': ObjectId('6740bb6dd47dc0d6b5eb1844'),\n",
      " 'available': 22,\n",
      " 'description': \"It's hard to imagine a world without A Light in the Attic. \"\n",
      "                'This now-classic collection of poetry and drawings from Shel '\n",
      "                'Silverstein celebrates its 20th anniversary with this special '\n",
      "                \"edition. Silverstein's humorous and creative verse can amuse \"\n",
      "                'the dowdiest of readers. Lemon-faced adults and fidgety kids '\n",
      "                'sit still and read these rhythmic words and laugh and smile '\n",
      "                \"and love th It's hard to imagine a world without A Light in \"\n",
      "                'the Attic. This now-classic collection of poetry and drawings '\n",
      "                'from Shel Silverstein celebrates its 20th anniversary with '\n",
      "                \"this special edition. Silverstein's humorous and creative \"\n",
      "                'verse can amuse the dowdiest of readers. Lemon-faced adults '\n",
      "                'and fidgety kids sit still and read these rhythmic words and '\n",
      "                'laugh and smile and love that Silverstein. Need proof of his '\n",
      "                \"genius? RockabyeRockabye baby, in the treetopDon't you know a \"\n",
      "                'treetopIs no safe place to rock?And who put you up there,And '\n",
      "                \"your cradle, too?Baby, I think someone down here'sGot it in \"\n",
      "                'for you. Shel, you never sounded so good. ...more',\n",
      " 'price': '£51.77',\n",
      " 'title': 'A Light in the Attic'}\n"
     ]
    }
   ],
   "source": [
    "# Вывод первого элемента\n",
    "all_docs = collection.find()\n",
    "pprint(all_docs[0])"
   ]
  },
  {
   "cell_type": "code",
   "execution_count": 53,
   "metadata": {},
   "outputs": [
    {
     "name": "stdout",
     "output_type": "stream",
     "text": [
      "{'title': 'How Music Works', 'price': '£37.32', 'available': 19, 'description': 'How Music Works is David Byrneâ\\x80\\x99s remarkable and buoyant celebration of a subject he has spent a lifetime thinking about. In it he explores how profoundly music is shaped by its time and place, and he explains how the advent of recording technology in the twentieth century forever changed our relationship to playing, performing, and listening to music.Acting as historian an How Music Works is David Byrneâ\\x80\\x99s remarkable and buoyant celebration of a subject he has spent a lifetime thinking about. In it he explores how profoundly music is shaped by its time and place, and he explains how the advent of recording technology in the twentieth century forever changed our relationship to playing, performing, and listening to music.Acting as historian and anthropologist, raconteur and social scientist, he searches for patternsâ\\x80\\x94and shows how those patterns have affected his own work over the years with Talking Heads and his many collaborators, from Brian Eno to Caetano Veloso. Byrne sees music as part of a larger, almost Darwinian pattern of adaptations and responses to its cultural and physical context. His range is panoptic, taking us from Wagnerian opera houses to African villages, from his earliest high school reel-to-reel recordings to his latest work in a home music studio (and all the big studios in between).Touching on the joy, the physics, and even the business of making music, How Music Works is a brainy, irresistible adventure and an impassioned argument about musicâ\\x80\\x99s liberating, life-affirming power. ...more'}\n",
      "{'title': 'More Than Music (Chasing the Dream #1)', 'price': '£37.61', 'available': 14, 'description': \"Classical musician Maddie Taylor secretly dreams of a louder life, but geeky girls like her don't get to be rock stars. That is, until tattooed singer Jared Cross catches her playing guitar and invites her to join his band on The Sound, a reality TV show competition.Once on the show, Maddie discovers there's more to Jared than his flirty smile and bad boy reputation. With Classical musician Maddie Taylor secretly dreams of a louder life, but geeky girls like her don't get to be rock stars. That is, until tattooed singer Jared Cross catches her playing guitar and invites her to join his band on The Sound, a reality TV show competition.Once on the show, Maddie discovers there's more to Jared than his flirty smile and bad boy reputation. With each performance their attraction becomes impossible to ignore, but when the show pressures them to stay single, they're forced to keep their relationship secret.As the competition heats up, Jared will do whatever it takes for his band to win, and Maddie must decide if following her dream is worth losing her heart. ...more\"}\n",
      "{'title': 'Love Is a Mix Tape (Music #1)', 'price': '£18.03', 'available': 14, 'description': \"In this stunning memoir, Rob Sheffield, a veteran rock and pop culture critic and staff writer for Rolling Stone magazine, tells the story of his musical coming of age, and how rock music, the first love of his life, led him to his second, a girl named Renee. Rob and Renee's life together - they wed after graduate school, both became music journalists, and were married onl In this stunning memoir, Rob Sheffield, a veteran rock and pop culture critic and staff writer for Rolling Stone magazine, tells the story of his musical coming of age, and how rock music, the first love of his life, led him to his second, a girl named Renee. Rob and Renee's life together - they wed after graduate school, both became music journalists, and were married only five years when Renee died suddenly on Mother's Day, 1997 - is shared through the window of the mix tapes they obsessively compiled. There are mixes to court each other, mixes for road trips, mixes for doing the dishes, mixes for sleeping - and, eventually, mixes to mourn Rob's greatest loss. The tunes were among the great musical output of the early 1990s - Pearl Jam, Nirvana, Pavement, Yo La Tengo, REM, Weezer - as well as classics by The Rolling Stones, The Beatles, Aretha Franklin and more. Mixing the skilful, tragic punch of Dave Eggers and the romantic honesty of Nick Hornby, LOVE IS A MIX TAPE is a story of lost love and the kick-you-in-the-gut energy of great pop music. ...more\"}\n",
      "{'title': 'Musicophilia: Tales of Music and the Brain', 'price': '£46.58', 'available': 6, 'description': 'What goes on in human beings when they make or listen to music? What is it about music, what gives it such peculiar power over us, power delectable and beneficent for the most part, but also capable of uncontrollable and sometimes destructive force? Music has no concepts, it lacks images; it has no power of representation, it has no relation to the world. And yet it is evi What goes on in human beings when they make or listen to music? What is it about music, what gives it such peculiar power over us, power delectable and beneficent for the most part, but also capable of uncontrollable and sometimes destructive force? Music has no concepts, it lacks images; it has no power of representation, it has no relation to the world. And yet it is evident in all of usâ\\x80\\x93we tap our feet, we keep time, hum, sing, conduct music, mirror the melodic contours and feelings of what we hear in our movements and expressions.In this book, Oliver Sacks explores the power music wields over usâ\\x80\\x93a power that sometimes we control and at other times donâ\\x80\\x99t. He explores, in his inimitable fashion, how it can provide access to otherwise unreachable emotional states, how it can revivify neurological avenues that have been frozen, evoke memories of earlier, lost events or states or bring those with neurological disorders back to a time when the world was much richer.This is a book that explores, like no other, the myriad dimensions of our experience of and with music. ...more'}\n",
      "{'title': 'This Is Your Brain on Music: The Science of a Human Obsession', 'price': '£38.40', 'available': 5, 'description': 'Whether you load your iPod with Bach or Bono, music has a significant role in your lifeâ\\x80\\x94even if you never realized it. Why does music evoke such powerful moods? The answers are at last be- coming clear, thanks to revolutionary neuroscience and the emerging field of evolutionary psychology. Both a cutting-edge study and a tribute to the beauty of music itself, This Is Your Whether you load your iPod with Bach or Bono, music has a significant role in your lifeâ\\x80\\x94even if you never realized it. Why does music evoke such powerful moods? The answers are at last be- coming clear, thanks to revolutionary neuroscience and the emerging field of evolutionary psychology. Both a cutting-edge study and a tribute to the beauty of music itself, This Is Your Brain on Music unravels a host of mysteries that affect everything from pop culture to our understanding of human nature, including: â\\x80¢ Are our musical preferences shaped in utero? â\\x80¢ Is there a cutoff point for acquiring new tastes in music? â\\x80¢ What do PET scans and MRIs reveal about the brainâ\\x80\\x99s response to music? â\\x80¢ Is musical pleasure different from other kinds of pleasure?This Is Your Brain on Music explores cultures in which singing is considered an essential human function, patients who have a rare disorder that prevents them from making sense of music, and scientists studying why two people may not have the same definition of pitch. At every turn, this provocative work unlocks deep secrets about how nature and nurture forge a uniquely human obsession. ...more'}\n",
      "{'title': 'The Jazz of Physics: The Secret Link Between Music and the Structure of the Universe', 'price': '£38.71', 'available': 4, 'description': 'More than fifty years ago, John Coltrane drew the twelve musical notes in a circle and connected them by straight lines, forming a five-pointed star. Inspired by Einstein, Coltrane had put physics and geometry at the core of his music. Physicist and jazz musician Stephon Alexander returns the favor, using jazz to answer physicsâ\\x80\\x99 most vexing questions about the past and fut More than fifty years ago, John Coltrane drew the twelve musical notes in a circle and connected them by straight lines, forming a five-pointed star. Inspired by Einstein, Coltrane had put physics and geometry at the core of his music. Physicist and jazz musician Stephon Alexander returns the favor, using jazz to answer physicsâ\\x80\\x99 most vexing questions about the past and future of the universe.Following the great minds that first drew the links between music and physicsâ\\x80\\x94a list including Pythagoras, Kepler, Newton, Einstein, and Rakimâ\\x80\\x94The Jazz of Physics revisits the ancient realm where music, physics, and the cosmos were one. This cosmological journey accompanies Alexanderâ\\x80\\x99s own tale of struggling to reconcile his passion for music and physics, from taking music lessons as a boy in the Bronx to studying theoretical physics at Imperial College, Londonâ\\x80\\x99s inner sanctum of string theory. Playing the saxophone and improvising with equations, Alexander uncovered the connection between the fundamental waves that make up sound and the fundamental waves that make up everything else. As he reveals, the ancient poetic idea of the â\\x80\\x9cmusic of the spheres,â\\x80\\x9d taken seriously, clarifies confounding issues in physics.Whether you are more familiar with Brian Greene or Brian Eno, John Coltrane or John Wheeler, the Five Percent Nation or why the universe is less than five percent visible, there is a new discovery on every page. Covering the entire history of the universe from its birth to its fate, its structure on the smallest and largest scales, The Jazz of Physics will fascinate and inspire anyone interested in the mysteries of our universe, music, and life itself. ...more'}\n"
     ]
    }
   ],
   "source": [
    "# Использование оператора $regex (фильтруем по наличию слова 'music' в названии книги)\n",
    "query = {\"title\": {\"$regex\": \"music\", \"$options\": \"i\"}}\n",
    "proj_docs = collection.find(query, {'_id': 0})\n",
    "for doc in proj_docs:\n",
    "    print(doc)"
   ]
  },
  {
   "cell_type": "code",
   "execution_count": 54,
   "metadata": {},
   "outputs": [
    {
     "name": "stdout",
     "output_type": "stream",
     "text": [
      "{'title': 'A Light in the Attic', 'price': '£51.77', 'available': 22, 'description': \"It's hard to imagine a world without A Light in the Attic. This now-classic collection of poetry and drawings from Shel Silverstein celebrates its 20th anniversary with this special edition. Silverstein's humorous and creative verse can amuse the dowdiest of readers. Lemon-faced adults and fidgety kids sit still and read these rhythmic words and laugh and smile and love th It's hard to imagine a world without A Light in the Attic. This now-classic collection of poetry and drawings from Shel Silverstein celebrates its 20th anniversary with this special edition. Silverstein's humorous and creative verse can amuse the dowdiest of readers. Lemon-faced adults and fidgety kids sit still and read these rhythmic words and laugh and smile and love that Silverstein. Need proof of his genius? RockabyeRockabye baby, in the treetopDon't you know a treetopIs no safe place to rock?And who put you up there,And your cradle, too?Baby, I think someone down here'sGot it in for you. Shel, you never sounded so good. ...more\"}\n"
     ]
    }
   ],
   "source": [
    "# Использование операторов сравнения (фильтруем по наличию)\n",
    "query = {\"available\": {\"$gt\": 20, \"$lt\": 30}}\n",
    "proj_docs = collection.find(query, {'_id': 0})\n",
    "for doc in proj_docs:\n",
    "    print(doc)"
   ]
  }
 ],
 "metadata": {
  "kernelspec": {
   "display_name": "GeekBrain",
   "language": "python",
   "name": "python3"
  },
  "language_info": {
   "codemirror_mode": {
    "name": "ipython",
    "version": 3
   },
   "file_extension": ".py",
   "mimetype": "text/x-python",
   "name": "python",
   "nbconvert_exporter": "python",
   "pygments_lexer": "ipython3",
   "version": "3.12.4"
  },
  "orig_nbformat": 4
 },
 "nbformat": 4,
 "nbformat_minor": 2
}
