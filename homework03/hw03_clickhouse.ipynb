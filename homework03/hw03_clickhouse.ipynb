{
 "cells": [
  {
   "cell_type": "code",
   "execution_count": 32,
   "id": "7f8a5544",
   "metadata": {},
   "outputs": [
    {
     "name": "stdout",
     "output_type": "stream",
     "text": [
      "[]\n"
     ]
    }
   ],
   "source": [
    "from clickhouse_driver import Client\n",
    "import json \n",
    "from pprint import pprint\n",
    "\n",
    "client = Client(host='localhost', user='default', password='', port=9000)         \n",
    "\n",
    "try:\n",
    "    result = client.execute('SHOW TABLES')\n",
    "    print(result)\n",
    "except Exception as e:\n",
    "    print(f\"Ошибка работы с базой данных: {e}\")"
   ]
  },
  {
   "cell_type": "code",
   "execution_count": 2,
   "id": "b6d5a7ee",
   "metadata": {},
   "outputs": [
    {
     "data": {
      "text/plain": [
       "[]"
      ]
     },
     "execution_count": 2,
     "metadata": {},
     "output_type": "execute_result"
    }
   ],
   "source": [
    "# Создаем БД\n",
    "client.execute('CREATE DATABASE IF NOT EXISTS books2scrape')"
   ]
  },
  {
   "cell_type": "code",
   "execution_count": 33,
   "id": "57095c7d",
   "metadata": {},
   "outputs": [
    {
     "data": {
      "text/plain": [
       "[]"
      ]
     },
     "execution_count": 33,
     "metadata": {},
     "output_type": "execute_result"
    }
   ],
   "source": [
    "# Удаление таблицы (для отладки)\n",
    "# client.execute('DROP TABLE books2scrape.books')"
   ]
  },
  {
   "cell_type": "code",
   "execution_count": 34,
   "id": "7504821b",
   "metadata": {},
   "outputs": [
    {
     "name": "stdout",
     "output_type": "stream",
     "text": [
      "Таблица books создана успешно.\n"
     ]
    },
    {
     "data": {
      "text/plain": [
       "[]"
      ]
     },
     "execution_count": 34,
     "metadata": {},
     "output_type": "execute_result"
    }
   ],
   "source": [
    "# Создание основной таблицы 'books' с автоматической генерацией уникального идентификатора\n",
    "client.execute('''\n",
    "CREATE TABLE IF NOT EXISTS books2scrape.books (\n",
    "    id UUID DEFAULT generateUUIDv4(),\n",
    "    title String,\n",
    "    price String,\n",
    "    available UInt16,\n",
    "    description String\n",
    ") \n",
    "ENGINE = MergeTree()\n",
    "ORDER BY id\n",
    "''')\n",
    "\n",
    "print(\"Таблица books создана успешно.\")\n",
    "client.execute('SHOW TABLES')"
   ]
  },
  {
   "cell_type": "code",
   "execution_count": 35,
   "id": "96ba8f84",
   "metadata": {},
   "outputs": [
    {
     "name": "stdout",
     "output_type": "stream",
     "text": [
      "1000\n",
      "{'title': 'A Light in the Attic', 'price': '£51.77', 'available': 22, 'description': \"It's hard to imagine a world without A Light in the Attic. This now-classic collection of poetry and drawings from Shel Silverstein celebrates its 20th anniversary with this special edition. Silverstein's humorous and creative verse can amuse the dowdiest of readers. Lemon-faced adults and fidgety kids sit still and read these rhythmic words and laugh and smile and love th It's hard to imagine a world without A Light in the Attic. This now-classic collection of poetry and drawings from Shel Silverstein celebrates its 20th anniversary with this special edition. Silverstein's humorous and creative verse can amuse the dowdiest of readers. Lemon-faced adults and fidgety kids sit still and read these rhythmic words and laugh and smile and love that Silverstein. Need proof of his genius? RockabyeRockabye baby, in the treetopDon't you know a treetopIs no safe place to rock?And who put you up there,And your cradle, too?Baby, I think someone down here'sGot it in for you. Shel, you never sounded so good. ...more\"}\n"
     ]
    }
   ],
   "source": [
    "# Чтение файла JSON\n",
    "with open('books.json', 'r', encoding='utf-8') as file:\n",
    "    data = json.load(file)\n",
    "print(len(data))\n",
    "\n",
    "# Приводим имена полей к нижнему регистру\n",
    "for i in range(len(data)):    \n",
    "    data[i] = {key.lower(): value for key, value in data[i].items()}\n",
    "print(data[0])"
   ]
  },
  {
   "cell_type": "code",
   "execution_count": 37,
   "id": "3808ee71",
   "metadata": {},
   "outputs": [
    {
     "name": "stdout",
     "output_type": "stream",
     "text": [
      "Данные введены успешно.\n",
      "Первая вставленная запись: (UUID('4fa9fac8-7aa4-4bc2-8002-d2c77f1654b1'), 'The Gray Rhino: How to Recognize and Act on the Obvious Dangers We Ignore', '£59.15', 12, 'A \"gray rhino\" is a highly probable, high impact yet neglected threat: kin to both the elephant in the room and the improbable and unforeseeable black swan. Gray rhinos are not random surprises, but occur after a series of warnings and visible evidence. The bursting of the housing bubble in 2008, the devastating aftermath of Hurricane Katrina and other natural disasters, t A \"gray rhino\" is a highly probable, high impact yet neglected threat: kin to both the elephant in the room and the improbable and unforeseeable black swan. Gray rhinos are not random surprises, but occur after a series of warnings and visible evidence. The bursting of the housing bubble in 2008, the devastating aftermath of Hurricane Katrina and other natural disasters, the new digital technologies that upended the media world, the fall of the Soviet Union...all were evident well in advance.Why do leaders and decision makers keep failing to address obvious dangers before they spiral out of control? Drawing on her extensive background in policy formation and crisis management, as well as in-depth interviews with leaders from around the world, Michele Wucker shows in The Gray Rhino how to recognize and strategically counter looming high impact threats. Filled with persuasive stories, real-world examples, and practical advice, The Gray Rhino is essential reading for managers, investors, planners, policy makers, and anyone who wants to understand how to profit by avoiding getting trampled. ...more')\n",
      "Всего записей в таблице: 1000\n"
     ]
    }
   ],
   "source": [
    "# Вставка данных в таблицу\n",
    "client.execute(\"\"\"\n",
    "    INSERT INTO books2scrape.books (title, price, available, description)\n",
    "    VALUES\"\"\", data)\n",
    "\n",
    "print(\"Данные введены успешно.\")\n",
    "\n",
    "# Проверка успешности вставки\n",
    "result = client.execute(\"SELECT * FROM books2scrape.books\")\n",
    "print(\"Первая вставленная запись:\", result[0])\n",
    "\n",
    "result = client.execute('SELECT COUNT(*) FROM books2scrape.books')\n",
    "print(f\"Всего записей в таблице: {result[0][0]}\")"
   ]
  },
  {
   "cell_type": "code",
   "execution_count": 52,
   "id": "93a48c51",
   "metadata": {},
   "outputs": [
    {
     "name": "stdout",
     "output_type": "stream",
     "text": [
      "(UUID('fc149fb7-a5c8-436e-8e83-34fbb90db6ec'), 'Musicophilia: Tales of Music and the Brain', '£46.58', 6, 'What goes on in human beings when they make or listen to music? What is it about music, what gives it such peculiar power over us, power delectable and beneficent for the most part, but also capable of uncontrollable and sometimes destructive force? Music has no concepts, it lacks images; it has no power of representation, it has no relation to the world. And yet it is evi What goes on in human beings when they make or listen to music? What is it about music, what gives it such peculiar power over us, power delectable and beneficent for the most part, but also capable of uncontrollable and sometimes destructive force? Music has no concepts, it lacks images; it has no power of representation, it has no relation to the world. And yet it is evident in all of usâ\\x80\\x93we tap our feet, we keep time, hum, sing, conduct music, mirror the melodic contours and feelings of what we hear in our movements and expressions.In this book, Oliver Sacks explores the power music wields over usâ\\x80\\x93a power that sometimes we control and at other times donâ\\x80\\x99t. He explores, in his inimitable fashion, how it can provide access to otherwise unreachable emotional states, how it can revivify neurological avenues that have been frozen, evoke memories of earlier, lost events or states or bring those with neurological disorders back to a time when the world was much richer.This is a book that explores, like no other, the myriad dimensions of our experience of and with music. ...more')\n",
      "(UUID('cc5e6098-a469-48d9-8ed7-fb105e59d073'), 'Love Is a Mix Tape (Music #1)', '£18.03', 14, \"In this stunning memoir, Rob Sheffield, a veteran rock and pop culture critic and staff writer for Rolling Stone magazine, tells the story of his musical coming of age, and how rock music, the first love of his life, led him to his second, a girl named Renee. Rob and Renee's life together - they wed after graduate school, both became music journalists, and were married onl In this stunning memoir, Rob Sheffield, a veteran rock and pop culture critic and staff writer for Rolling Stone magazine, tells the story of his musical coming of age, and how rock music, the first love of his life, led him to his second, a girl named Renee. Rob and Renee's life together - they wed after graduate school, both became music journalists, and were married only five years when Renee died suddenly on Mother's Day, 1997 - is shared through the window of the mix tapes they obsessively compiled. There are mixes to court each other, mixes for road trips, mixes for doing the dishes, mixes for sleeping - and, eventually, mixes to mourn Rob's greatest loss. The tunes were among the great musical output of the early 1990s - Pearl Jam, Nirvana, Pavement, Yo La Tengo, REM, Weezer - as well as classics by The Rolling Stones, The Beatles, Aretha Franklin and more. Mixing the skilful, tragic punch of Dave Eggers and the romantic honesty of Nick Hornby, LOVE IS A MIX TAPE is a story of lost love and the kick-you-in-the-gut energy of great pop music. ...more\")\n",
      "(UUID('6e6b359e-ea46-4349-8fd7-886bb04fa06e'), 'More Than Music (Chasing the Dream #1)', '£37.61', 14, \"Classical musician Maddie Taylor secretly dreams of a louder life, but geeky girls like her don't get to be rock stars. That is, until tattooed singer Jared Cross catches her playing guitar and invites her to join his band on The Sound, a reality TV show competition.Once on the show, Maddie discovers there's more to Jared than his flirty smile and bad boy reputation. With Classical musician Maddie Taylor secretly dreams of a louder life, but geeky girls like her don't get to be rock stars. That is, until tattooed singer Jared Cross catches her playing guitar and invites her to join his band on The Sound, a reality TV show competition.Once on the show, Maddie discovers there's more to Jared than his flirty smile and bad boy reputation. With each performance their attraction becomes impossible to ignore, but when the show pressures them to stay single, they're forced to keep their relationship secret.As the competition heats up, Jared will do whatever it takes for his band to win, and Maddie must decide if following her dream is worth losing her heart. ...more\")\n",
      "(UUID('085a5c68-173d-4400-8fe0-5aadd9bd70b7'), 'The Jazz of Physics: The Secret Link Between Music and the Structure of the Universe', '£38.71', 4, 'More than fifty years ago, John Coltrane drew the twelve musical notes in a circle and connected them by straight lines, forming a five-pointed star. Inspired by Einstein, Coltrane had put physics and geometry at the core of his music. Physicist and jazz musician Stephon Alexander returns the favor, using jazz to answer physicsâ\\x80\\x99 most vexing questions about the past and fut More than fifty years ago, John Coltrane drew the twelve musical notes in a circle and connected them by straight lines, forming a five-pointed star. Inspired by Einstein, Coltrane had put physics and geometry at the core of his music. Physicist and jazz musician Stephon Alexander returns the favor, using jazz to answer physicsâ\\x80\\x99 most vexing questions about the past and future of the universe.Following the great minds that first drew the links between music and physicsâ\\x80\\x94a list including Pythagoras, Kepler, Newton, Einstein, and Rakimâ\\x80\\x94The Jazz of Physics revisits the ancient realm where music, physics, and the cosmos were one. This cosmological journey accompanies Alexanderâ\\x80\\x99s own tale of struggling to reconcile his passion for music and physics, from taking music lessons as a boy in the Bronx to studying theoretical physics at Imperial College, Londonâ\\x80\\x99s inner sanctum of string theory. Playing the saxophone and improvising with equations, Alexander uncovered the connection between the fundamental waves that make up sound and the fundamental waves that make up everything else. As he reveals, the ancient poetic idea of the â\\x80\\x9cmusic of the spheres,â\\x80\\x9d taken seriously, clarifies confounding issues in physics.Whether you are more familiar with Brian Greene or Brian Eno, John Coltrane or John Wheeler, the Five Percent Nation or why the universe is less than five percent visible, there is a new discovery on every page. Covering the entire history of the universe from its birth to its fate, its structure on the smallest and largest scales, The Jazz of Physics will fascinate and inspire anyone interested in the mysteries of our universe, music, and life itself. ...more')\n",
      "(UUID('b5350497-7105-4d1a-a7ae-475dffc82f24'), 'This Is Your Brain on Music: The Science of a Human Obsession', '£38.40', 5, 'Whether you load your iPod with Bach or Bono, music has a significant role in your lifeâ\\x80\\x94even if you never realized it. Why does music evoke such powerful moods? The answers are at last be- coming clear, thanks to revolutionary neuroscience and the emerging field of evolutionary psychology. Both a cutting-edge study and a tribute to the beauty of music itself, This Is Your Whether you load your iPod with Bach or Bono, music has a significant role in your lifeâ\\x80\\x94even if you never realized it. Why does music evoke such powerful moods? The answers are at last be- coming clear, thanks to revolutionary neuroscience and the emerging field of evolutionary psychology. Both a cutting-edge study and a tribute to the beauty of music itself, This Is Your Brain on Music unravels a host of mysteries that affect everything from pop culture to our understanding of human nature, including: â\\x80¢ Are our musical preferences shaped in utero? â\\x80¢ Is there a cutoff point for acquiring new tastes in music? â\\x80¢ What do PET scans and MRIs reveal about the brainâ\\x80\\x99s response to music? â\\x80¢ Is musical pleasure different from other kinds of pleasure?This Is Your Brain on Music explores cultures in which singing is considered an essential human function, patients who have a rare disorder that prevents them from making sense of music, and scientists studying why two people may not have the same definition of pitch. At every turn, this provocative work unlocks deep secrets about how nature and nurture forge a uniquely human obsession. ...more')\n",
      "(UUID('61722cce-681a-4f2b-bbb4-791ef63ddf26'), 'How Music Works', '£37.32', 19, 'How Music Works is David Byrneâ\\x80\\x99s remarkable and buoyant celebration of a subject he has spent a lifetime thinking about. In it he explores how profoundly music is shaped by its time and place, and he explains how the advent of recording technology in the twentieth century forever changed our relationship to playing, performing, and listening to music.Acting as historian an How Music Works is David Byrneâ\\x80\\x99s remarkable and buoyant celebration of a subject he has spent a lifetime thinking about. In it he explores how profoundly music is shaped by its time and place, and he explains how the advent of recording technology in the twentieth century forever changed our relationship to playing, performing, and listening to music.Acting as historian and anthropologist, raconteur and social scientist, he searches for patternsâ\\x80\\x94and shows how those patterns have affected his own work over the years with Talking Heads and his many collaborators, from Brian Eno to Caetano Veloso. Byrne sees music as part of a larger, almost Darwinian pattern of adaptations and responses to its cultural and physical context. His range is panoptic, taking us from Wagnerian opera houses to African villages, from his earliest high school reel-to-reel recordings to his latest work in a home music studio (and all the big studios in between).Touching on the joy, the physics, and even the business of making music, How Music Works is a brainy, irresistible adventure and an impassioned argument about musicâ\\x80\\x99s liberating, life-affirming power. ...more')\n"
     ]
    }
   ],
   "source": [
    "# Использование LIKE для фильтрации по наличию слова 'music' в поле 'title'\n",
    "result = client.execute(\"\"\"\n",
    "    SELECT * FROM books2scrape.books    \n",
    "    WHERE LOWER(title) LIKE '%music%'\n",
    "\"\"\")\n",
    "\n",
    "for row in result:\n",
    "    print(row)"
   ]
  },
  {
   "cell_type": "code",
   "execution_count": 51,
   "id": "d1e3d846",
   "metadata": {},
   "outputs": [
    {
     "name": "stdout",
     "output_type": "stream",
     "text": [
      "(UUID('1dbe3866-68f0-4ec8-b031-99b197cc2269'), 'A Light in the Attic', '£51.77', 22, \"It's hard to imagine a world without A Light in the Attic. This now-classic collection of poetry and drawings from Shel Silverstein celebrates its 20th anniversary with this special edition. Silverstein's humorous and creative verse can amuse the dowdiest of readers. Lemon-faced adults and fidgety kids sit still and read these rhythmic words and laugh and smile and love th It's hard to imagine a world without A Light in the Attic. This now-classic collection of poetry and drawings from Shel Silverstein celebrates its 20th anniversary with this special edition. Silverstein's humorous and creative verse can amuse the dowdiest of readers. Lemon-faced adults and fidgety kids sit still and read these rhythmic words and laugh and smile and love that Silverstein. Need proof of his genius? RockabyeRockabye baby, in the treetopDon't you know a treetopIs no safe place to rock?And who put you up there,And your cradle, too?Baby, I think someone down here'sGot it in for you. Shel, you never sounded so good. ...more\")\n"
     ]
    }
   ],
   "source": [
    "# Использование операторов сравнения (фильтруем по наличию)\n",
    "result = client.execute(\"\"\"\n",
    "    SELECT * FROM books2scrape.books    \n",
    "    WHERE available > 20 AND available < 30\n",
    "\"\"\")\n",
    "\n",
    "for row in result:\n",
    "    print(row)"
   ]
  }
 ],
 "metadata": {
  "kernelspec": {
   "display_name": "Python 3 (ipykernel)",
   "language": "python",
   "name": "python3"
  },
  "language_info": {
   "codemirror_mode": {
    "name": "ipython",
    "version": 3
   },
   "file_extension": ".py",
   "mimetype": "text/x-python",
   "name": "python",
   "nbconvert_exporter": "python",
   "pygments_lexer": "ipython3",
   "version": "3.12.4"
  }
 },
 "nbformat": 4,
 "nbformat_minor": 5
}
